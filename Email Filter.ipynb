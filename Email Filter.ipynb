{
 "cells": [
  {
   "cell_type": "markdown",
   "metadata": {},
   "source": [
    "#### This jupyter notebook scrapes emails in an email address and filter out emails based on the subject."
   ]
  },
  {
   "cell_type": "code",
   "execution_count": null,
   "metadata": {},
   "outputs": [],
   "source": [
    "#import the necessary modules, and then specify the credentials of your email account.\n",
    "import imaplib\n",
    "import email\n",
    "from email.header import decode_header\n",
    "import webbrowser\n",
    "import os\n",
    "import csv\n",
    "\n",
    "# account credentials\n",
    "username = \"youremailaddress@provider.com\"\n",
    "password = \"yourpassword\""
   ]
  },
  {
   "cell_type": "code",
   "execution_count": null,
   "metadata": {},
   "outputs": [],
   "source": [
    "#connect to the IMAP server\n",
    "# create an IMAP4 class with SSL \n",
    "imap = imaplib.IMAP4_SSL(\"imap.gmail.com\")\n",
    "\n",
    "# authenticate\n",
    "imap.login(username, password)"
   ]
  },
  {
   "cell_type": "markdown",
   "metadata": {},
   "source": [
    "Since I'm testing this on a gmail account, I've used [imap.gmail.com](imap.gmail.com) server, this [link](https://www.systoolsgroup.com/imap/) contains list of IMAP servers for most commonly used email providers, which can be used in case of any other email service provider.\n",
    "\n",
    "Also, if you're using a Gmail account and the above code raises an error indicating that the credentials are incorrect, make sure you allow less secure apps on your account.\n",
    "\n"
   ]
  },
  {
   "cell_type": "code",
   "execution_count": null,
   "metadata": {},
   "outputs": [],
   "source": [
    "status, messages = imap.select(\"INBOX\")\n",
    "# number of top emails to fetch\n",
    "\n",
    "# total number of emails\n",
    "messages = int(messages[0])\n",
    "N = messages \n",
    "# N can be equated to any number depending upon the top N emails you want to scrape.\n",
    "# Here N=messages means we want to scrape through all emails"
   ]
  },
  {
   "cell_type": "code",
   "execution_count": null,
   "metadata": {},
   "outputs": [],
   "source": [
    "jobs = []    # make a list which will store all the objects whose subject is matches our required string\n",
    "\n",
    "for i in range(messages, messages-N, -1): # going from the top to the bottom, the newest email messages got the highest id number\n",
    "    \n",
    "    res, msg = imap.fetch(str(i), \"(RFC822)\")    #  fetches the email message by ID using the standard format specified in RFC 822\n",
    "    \n",
    "    for response in msg:\n",
    "        \n",
    "        if isinstance(response, tuple):\n",
    "            # parse a bytes email into a message object\n",
    "            msg = email.message_from_bytes(response[1])\n",
    "            \n",
    "            # decode the email subject human readable unicode\n",
    "            subject = decode_header(msg[\"Subject\"])[0][0]\n",
    "            \n",
    "            if isinstance(subject, bytes):\n",
    "                # if it's a bytes, decode to str\n",
    "                subject = subject.decode()\n",
    "                \n",
    "            # email sender\n",
    "            from_ = msg.get(\"From\")\n",
    "           \n",
    "            if subject.lower() == \"Thank you for applying\".lower():\n",
    "                jobs.append([from_, msg, subject])\n",
    "            \n",
    "    \n",
    "print(jobs)"
   ]
  },
  {
   "cell_type": "code",
   "execution_count": 1,
   "metadata": {},
   "outputs": [],
   "source": [
    "file = open('Jobs.csv', 'w+', newline ='')  # creating a file names jobs.csv"
   ]
  },
  {
   "cell_type": "code",
   "execution_count": null,
   "metadata": {},
   "outputs": [],
   "source": [
    "# writing the list in a file \n",
    "with file:     \n",
    "    write = csv.writer(file) \n",
    "    write.writerow(['Sender', 'Object', 'Subject'])\n",
    "    write.writerows(jobs)"
   ]
  },
  {
   "cell_type": "code",
   "execution_count": null,
   "metadata": {},
   "outputs": [],
   "source": [
    "# logging out from your account\n",
    "imap.close()\n",
    "imap.logout()"
   ]
  },
  {
   "cell_type": "code",
   "execution_count": null,
   "metadata": {},
   "outputs": [],
   "source": [
    "# import the external file and obtain the filtered out emails in a dataframe\n",
    "import pandas as pd\n",
    "df = pd.read_csv(\"jobs.csv\")\n",
    "df"
   ]
  },
  {
   "cell_type": "code",
   "execution_count": null,
   "metadata": {},
   "outputs": [],
   "source": []
  }
 ],
 "metadata": {
  "kernelspec": {
   "display_name": "Python 3",
   "language": "python",
   "name": "python3"
  },
  "language_info": {
   "codemirror_mode": {
    "name": "ipython",
    "version": 3
   },
   "file_extension": ".py",
   "mimetype": "text/x-python",
   "name": "python",
   "nbconvert_exporter": "python",
   "pygments_lexer": "ipython3",
   "version": "3.6.5"
  }
 },
 "nbformat": 4,
 "nbformat_minor": 2
}
